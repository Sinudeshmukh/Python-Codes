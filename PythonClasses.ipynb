{
  "nbformat": 4,
  "nbformat_minor": 0,
  "metadata": {
    "colab": {
      "name": "PythonClasses.ipynb",
      "provenance": [],
      "authorship_tag": "ABX9TyP8dr3oOzxkkoGvGzaJMN1S",
      "include_colab_link": true
    },
    "kernelspec": {
      "name": "python3",
      "display_name": "Python 3"
    },
    "language_info": {
      "name": "python"
    }
  },
  "cells": [
    {
      "cell_type": "markdown",
      "metadata": {
        "id": "view-in-github",
        "colab_type": "text"
      },
      "source": [
        "<a href=\"https://colab.research.google.com/github/Sinudeshmukh/Basic-Python/blob/main/PythonClasses.ipynb\" target=\"_parent\"><img src=\"https://colab.research.google.com/assets/colab-badge.svg\" alt=\"Open In Colab\"/></a>"
      ]
    },
    {
      "cell_type": "markdown",
      "metadata": {
        "id": "-IOls4SvVg9O"
      },
      "source": [
        "####Creating Class"
      ]
    },
    {
      "cell_type": "code",
      "metadata": {
        "id": "I5pXs4jjUJmU"
      },
      "source": [
        "class School:\n",
        "  id = 10\n",
        "  name = 'sinu'\n",
        "  def display(self):\n",
        "    print(self.id, self.name)"
      ],
      "execution_count": 23,
      "outputs": []
    },
    {
      "cell_type": "code",
      "metadata": {
        "colab": {
          "base_uri": "https://localhost:8080/"
        },
        "id": "ylUVxwBsYGAs",
        "outputId": "ec998743-baef-47fc-d39f-8eead72f348d"
      },
      "source": [
        "a = School()\n",
        "a.id\n"
      ],
      "execution_count": 24,
      "outputs": [
        {
          "output_type": "execute_result",
          "data": {
            "text/plain": [
              "10"
            ]
          },
          "metadata": {},
          "execution_count": 24
        }
      ]
    },
    {
      "cell_type": "markdown",
      "metadata": {
        "id": "vGs6QetnVkTR"
      },
      "source": [
        "####Object:\n",
        "Its instance of the class &\n",
        "creating an object is instantiation"
      ]
    },
    {
      "cell_type": "code",
      "metadata": {
        "colab": {
          "base_uri": "https://localhost:8080/"
        },
        "id": "_0Q8g2C2VQJP",
        "outputId": "c766257e-3f34-4c29-baa7-245e352b44ba"
      },
      "source": [
        "stu = Student()\n",
        "stu.display()"
      ],
      "execution_count": 13,
      "outputs": [
        {
          "output_type": "stream",
          "name": "stdout",
          "text": [
            "10 sinu\n"
          ]
        }
      ]
    },
    {
      "cell_type": "markdown",
      "metadata": {
        "id": "FrNsLOHTWEa8"
      },
      "source": [
        "###__init__ method"
      ]
    },
    {
      "cell_type": "markdown",
      "metadata": {
        "id": "ag_8vehFWRdY"
      },
      "source": [
        "Its used to assign values to the object properties"
      ]
    },
    {
      "cell_type": "code",
      "metadata": {
        "id": "aAsmAveKVWPr"
      },
      "source": [
        "class Student:\n",
        "  '''This is a class used for the students records'''\n",
        "  def __init__(self,name,age):\n",
        "    self.name = name\n",
        "    self.age = age\n"
      ],
      "execution_count": 16,
      "outputs": []
    },
    {
      "cell_type": "code",
      "metadata": {
        "id": "tONCp5MvXPq4"
      },
      "source": [
        "s1 = Student('sinu',18)"
      ],
      "execution_count": 19,
      "outputs": []
    },
    {
      "cell_type": "code",
      "metadata": {
        "colab": {
          "base_uri": "https://localhost:8080/",
          "height": 35
        },
        "id": "KrLe57tKXzKN",
        "outputId": "087f9acc-a8c1-4e5f-e715-d0c5608ffa91"
      },
      "source": [
        "s1.name"
      ],
      "execution_count": 22,
      "outputs": [
        {
          "output_type": "execute_result",
          "data": {
            "application/vnd.google.colaboratory.intrinsic+json": {
              "type": "string"
            },
            "text/plain": [
              "'sinu'"
            ]
          },
          "metadata": {},
          "execution_count": 22
        }
      ]
    },
    {
      "cell_type": "code",
      "metadata": {
        "colab": {
          "base_uri": "https://localhost:8080/"
        },
        "id": "EMQE8fV9XhKy",
        "outputId": "cc137bce-cce8-4252-83a2-803f7fe835dc"
      },
      "source": [
        "s1.age"
      ],
      "execution_count": 21,
      "outputs": [
        {
          "output_type": "execute_result",
          "data": {
            "text/plain": [
              "18"
            ]
          },
          "metadata": {},
          "execution_count": 21
        }
      ]
    },
    {
      "cell_type": "code",
      "metadata": {
        "id": "xXgb7AWhXm7D"
      },
      "source": [
        "s1.name = 'virat'"
      ],
      "execution_count": 25,
      "outputs": []
    },
    {
      "cell_type": "code",
      "metadata": {
        "colab": {
          "base_uri": "https://localhost:8080/"
        },
        "id": "RDxrbuDcY6a7",
        "outputId": "c7998f48-9b8a-4286-9dc8-a8c226ad8524"
      },
      "source": [
        "print(s1.name)"
      ],
      "execution_count": 26,
      "outputs": [
        {
          "output_type": "stream",
          "name": "stdout",
          "text": [
            "virat\n"
          ]
        }
      ]
    },
    {
      "cell_type": "code",
      "metadata": {
        "colab": {
          "base_uri": "https://localhost:8080/",
          "height": 185
        },
        "id": "k_50xZViY-xi",
        "outputId": "afdc861d-9626-40a4-acd8-d19f6358d360"
      },
      "source": [
        "del s1.name\n",
        "print(s1.name)"
      ],
      "execution_count": 27,
      "outputs": [
        {
          "output_type": "error",
          "ename": "AttributeError",
          "evalue": "ignored",
          "traceback": [
            "\u001b[0;31m---------------------------------------------------------------------------\u001b[0m",
            "\u001b[0;31mAttributeError\u001b[0m                            Traceback (most recent call last)",
            "\u001b[0;32m<ipython-input-27-aa1569226ab9>\u001b[0m in \u001b[0;36m<module>\u001b[0;34m()\u001b[0m\n\u001b[1;32m      1\u001b[0m \u001b[0;32mdel\u001b[0m \u001b[0ms1\u001b[0m\u001b[0;34m.\u001b[0m\u001b[0mname\u001b[0m\u001b[0;34m\u001b[0m\u001b[0;34m\u001b[0m\u001b[0m\n\u001b[0;32m----> 2\u001b[0;31m \u001b[0mprint\u001b[0m\u001b[0;34m(\u001b[0m\u001b[0ms1\u001b[0m\u001b[0;34m.\u001b[0m\u001b[0mname\u001b[0m\u001b[0;34m)\u001b[0m\u001b[0;34m\u001b[0m\u001b[0;34m\u001b[0m\u001b[0m\n\u001b[0m",
            "\u001b[0;31mAttributeError\u001b[0m: 'Student' object has no attribute 'name'"
          ]
        }
      ]
    },
    {
      "cell_type": "code",
      "metadata": {
        "id": "yDsJrNiuZT0w"
      },
      "source": [
        "del s1"
      ],
      "execution_count": 28,
      "outputs": []
    },
    {
      "cell_type": "code",
      "metadata": {
        "colab": {
          "base_uri": "https://localhost:8080/",
          "height": 167
        },
        "id": "CRQzEQyrZaDD",
        "outputId": "645b6be2-346e-47b5-9867-7c647bd63f0d"
      },
      "source": [
        "s1.age"
      ],
      "execution_count": 29,
      "outputs": [
        {
          "output_type": "error",
          "ename": "NameError",
          "evalue": "ignored",
          "traceback": [
            "\u001b[0;31m---------------------------------------------------------------------------\u001b[0m",
            "\u001b[0;31mNameError\u001b[0m                                 Traceback (most recent call last)",
            "\u001b[0;32m<ipython-input-29-17f4993cdc2b>\u001b[0m in \u001b[0;36m<module>\u001b[0;34m()\u001b[0m\n\u001b[0;32m----> 1\u001b[0;31m \u001b[0ms1\u001b[0m\u001b[0;34m.\u001b[0m\u001b[0mage\u001b[0m\u001b[0;34m\u001b[0m\u001b[0;34m\u001b[0m\u001b[0m\n\u001b[0m",
            "\u001b[0;31mNameError\u001b[0m: name 's1' is not defined"
          ]
        }
      ]
    },
    {
      "cell_type": "code",
      "metadata": {
        "id": "RwlL5aHeZb-0"
      },
      "source": [
        "class Animal:\n",
        "  def __init__(self,name):\n",
        "    self.name = name\n",
        "\n",
        "  def greet(self):\n",
        "    print('Hi,',self.name)"
      ],
      "execution_count": 30,
      "outputs": []
    },
    {
      "cell_type": "code",
      "metadata": {
        "colab": {
          "base_uri": "https://localhost:8080/"
        },
        "id": "GkQCGwzBZ5ma",
        "outputId": "87d70d7f-327e-43e0-f0a2-a1fffd48526c"
      },
      "source": [
        "a1 = Animal('puppy')\n",
        "a1.greet()"
      ],
      "execution_count": 31,
      "outputs": [
        {
          "output_type": "stream",
          "name": "stdout",
          "text": [
            "Hi, puppy\n"
          ]
        }
      ]
    }
  ]
}